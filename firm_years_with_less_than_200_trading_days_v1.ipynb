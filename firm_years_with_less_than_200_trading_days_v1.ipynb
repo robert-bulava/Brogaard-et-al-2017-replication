{
 "cells": [
  {
   "cell_type": "markdown",
   "metadata": {},
   "source": [
    "# Firm-years with less than 200 trading days\n",
    "author: Robert Bulava, https://github.com/robert-bulava , copyright: MIT License"
   ]
  },
  {
   "cell_type": "markdown",
   "metadata": {
    "toc": true
   },
   "source": [
    "<h1>Table of Contents<span class=\"tocSkip\"></span></h1>\n",
    "<div class=\"toc\"><ul class=\"toc-item\"><li><span><a href=\"#Firm-years-with-less-than-200-trading-days\" data-toc-modified-id=\"Firm-years-with-less-than-200-trading-days-1\"><span class=\"toc-item-num\">1&nbsp;&nbsp;</span>Firm-years with less than 200 trading days</a></span><ul class=\"toc-item\"><li><span><a href=\"#Setting-the-environment\" data-toc-modified-id=\"Setting-the-environment-1.1\"><span class=\"toc-item-num\">1.1&nbsp;&nbsp;</span>Setting the environment</a></span></li><li><span><a href=\"#Data-loading-and-inspection\" data-toc-modified-id=\"Data-loading-and-inspection-1.2\"><span class=\"toc-item-num\">1.2&nbsp;&nbsp;</span>Data loading and inspection</a></span></li><li><span><a href=\"#Variable-calculation\" data-toc-modified-id=\"Variable-calculation-1.3\"><span class=\"toc-item-num\">1.3&nbsp;&nbsp;</span>Variable calculation</a></span><ul class=\"toc-item\"><li><span><a href=\"#Active-trading-days\" data-toc-modified-id=\"Active-trading-days-1.3.1\"><span class=\"toc-item-num\">1.3.1&nbsp;&nbsp;</span>Active trading days</a></span></li><li><span><a href=\"#Active-trading-years\" data-toc-modified-id=\"Active-trading-years-1.3.2\"><span class=\"toc-item-num\">1.3.2&nbsp;&nbsp;</span>Active trading years</a></span></li></ul></li><li><span><a href=\"#Export\" data-toc-modified-id=\"Export-1.4\"><span class=\"toc-item-num\">1.4&nbsp;&nbsp;</span>Export</a></span></li></ul></li></ul></div>"
   ]
  },
  {
   "cell_type": "markdown",
   "metadata": {},
   "source": [
    "__Implemented text:__ <br> \n",
    "_'...To ensure there are enough data points to compute liquidity measures, we exclude firm-year observations with lower than two hundred active trading days in a year...' (Brogaard et al., 2017)_ (Section 2. Data and variable construction, paragraph 1)\n",
    "\n",
    "__Data source:__ Compustat - Capital IQ through Wharton Research Data Services (https://wrds-www.wharton.upenn.edu/)\n",
    "\n",
    "__Dataset:__ Compustat Daily Updates - Security Daily (1993-01-01 -- 2013-12-31)\n",
    "\n",
    "__Action:__ Filter out firm-years with less than 200 trading days. \n",
    "\n",
    "__Script Output:__ A data frame with columns _gvkey, year, actively_traded_ (days in a year), and <i>to_keep</i> (True or False). This data frame can be merged with a Compustat Industrial Files data frame in order to determine which firm-years need to be removed. "
   ]
  },
  {
   "cell_type": "markdown",
   "metadata": {},
   "source": [
    "## Setting the environment"
   ]
  },
  {
   "cell_type": "code",
   "execution_count": 1,
   "metadata": {
    "ExecuteTime": {
     "end_time": "2020-02-28T10:33:50.474405Z",
     "start_time": "2020-02-28T10:33:50.009606Z"
    }
   },
   "outputs": [],
   "source": [
    "import os\n",
    "import pandas as pd\n",
    "import numpy as np\n",
    "from IPython.display import Image"
   ]
  },
  {
   "cell_type": "code",
   "execution_count": 2,
   "metadata": {
    "ExecuteTime": {
     "end_time": "2020-02-28T10:33:50.480349Z",
     "start_time": "2020-02-28T10:33:50.475361Z"
    }
   },
   "outputs": [],
   "source": [
    "pd.set_option('display.max_columns', None)\n",
    "pd.set_option('display.max_rows', 150)\n",
    "pd.set_option('display.expand_frame_repr', False)\n",
    "pd.set_option('max_colwidth', None)"
   ]
  },
  {
   "cell_type": "code",
   "execution_count": 3,
   "metadata": {
    "ExecuteTime": {
     "end_time": "2020-02-28T10:33:50.485334Z",
     "start_time": "2020-02-28T10:33:50.481347Z"
    }
   },
   "outputs": [],
   "source": [
    "pd.set_option(\"mode.chained_assignment\", \"raise\")"
   ]
  },
  {
   "cell_type": "code",
   "execution_count": 4,
   "metadata": {
    "ExecuteTime": {
     "end_time": "2020-02-28T10:33:50.490321Z",
     "start_time": "2020-02-28T10:33:50.486332Z"
    }
   },
   "outputs": [],
   "source": [
    "root_folder = r\"C:\\Pandas\\BrogaardEtAlReplication\\Table_4\"\n",
    "os.chdir(root_folder)"
   ]
  },
  {
   "cell_type": "markdown",
   "metadata": {},
   "source": [
    "## Data loading and inspection"
   ]
  },
  {
   "cell_type": "markdown",
   "metadata": {},
   "source": [
    "__Variables:__ _gvkey, datadate, cshtrd_ (Trading Volume - Daily) _, tpci_ (Issue Type Code), _exch_ (Stock Exchange Code)."
   ]
  },
  {
   "cell_type": "code",
   "execution_count": 5,
   "metadata": {
    "ExecuteTime": {
     "end_time": "2020-02-28T10:33:50.495308Z",
     "start_time": "2020-02-28T10:33:50.491319Z"
    }
   },
   "outputs": [],
   "source": [
    "usecols = ['gvkey', 'datadate', 'cshtrd', 'tpci', 'exchg']\n",
    "dtype = {'gvkey': 'uint32', 'datadate': 'int32',\n",
    "         'cshtrd': 'float32', 'tpci': 'object', 'exchg': 'Int8'}"
   ]
  },
  {
   "cell_type": "markdown",
   "metadata": {},
   "source": [
    "Time period is 1993-01-01 -- 2013-12-31."
   ]
  },
  {
   "cell_type": "code",
   "execution_count": 6,
   "metadata": {
    "ExecuteTime": {
     "end_time": "2020-02-28T10:33:50.500294Z",
     "start_time": "2020-02-28T10:33:50.496305Z"
    }
   },
   "outputs": [],
   "source": [
    "time_span = np.arange(1993, 2014)  # as specified in the paper"
   ]
  },
  {
   "cell_type": "markdown",
   "metadata": {},
   "source": [
    "Issue Type Code - only common stocks will be kept in the data frame."
   ]
  },
  {
   "cell_type": "markdown",
   "metadata": {},
   "source": [
    "Stock Exchange code (<i>exch</i>) - only US stock exchanges will be included."
   ]
  },
  {
   "cell_type": "code",
   "execution_count": 7,
   "metadata": {
    "ExecuteTime": {
     "end_time": "2020-02-28T10:33:50.507276Z",
     "start_time": "2020-02-28T10:33:50.503286Z"
    }
   },
   "outputs": [],
   "source": [
    "us_exchanges = list(range(2, 5)) + list(range(11, 21))"
   ]
  },
  {
   "cell_type": "code",
   "execution_count": 8,
   "metadata": {
    "ExecuteTime": {
     "end_time": "2020-02-28T10:36:52.300298Z",
     "start_time": "2020-02-28T10:33:50.509271Z"
    }
   },
   "outputs": [],
   "source": [
    "cdaily = pd.DataFrame()\n",
    "\n",
    "chunksize = 10**6\n",
    "\n",
    "for chunk in pd.read_csv(r\"data\\cdaily_enriched2.csv\", usecols=usecols, dtype=dtype, chunksize=chunksize):\n",
    "\n",
    "    # removing rows with stocks that are not common or traded on non-US exchanges\n",
    "    chunk = chunk.loc[(chunk['tpci'] == '0') & (\n",
    "        chunk['exchg'].isin(us_exchanges)), ['gvkey', 'datadate', 'cshtrd']]\n",
    "\n",
    "    # processing datadate\n",
    "    chunk['datadate'] = pd.to_datetime(chunk[\"datadate\"], format='%Y%m%d')\n",
    "    chunk['year'] = chunk['datadate'].dt.year.astype('uint16')\n",
    "\n",
    "    # keeping rows within given time period\n",
    "    chunk = chunk.loc[chunk['year'].isin(time_span), ]\n",
    "\n",
    "    cdaily = pd.concat([cdaily, chunk], ignore_index=True, copy=True)"
   ]
  },
  {
   "cell_type": "code",
   "execution_count": 9,
   "metadata": {
    "ExecuteTime": {
     "end_time": "2020-02-28T10:36:52.328183Z",
     "start_time": "2020-02-28T10:36:52.308234Z"
    },
    "scrolled": true
   },
   "outputs": [
    {
     "data": {
      "text/plain": [
       "(54615547, 4)"
      ]
     },
     "execution_count": 9,
     "metadata": {},
     "output_type": "execute_result"
    }
   ],
   "source": [
    "cdaily.shape"
   ]
  },
  {
   "cell_type": "markdown",
   "metadata": {},
   "source": [
    "Percentage of NaN in columns."
   ]
  },
  {
   "cell_type": "code",
   "execution_count": 10,
   "metadata": {
    "ExecuteTime": {
     "end_time": "2020-02-28T10:36:53.002405Z",
     "start_time": "2020-02-28T10:36:52.330176Z"
    },
    "scrolled": false
   },
   "outputs": [
    {
     "data": {
      "text/plain": [
       "gvkey          0.0 %\n",
       "datadate       0.0 %\n",
       "cshtrd      0.0246 %\n",
       "year           0.0 %\n",
       "dtype: object"
      ]
     },
     "execution_count": 10,
     "metadata": {},
     "output_type": "execute_result"
    }
   ],
   "source": [
    "(cdaily.isna().sum()/len(cdaily)*100).round(4).astype(str) + ' %'"
   ]
  },
  {
   "cell_type": "markdown",
   "metadata": {},
   "source": [
    "## Variable calculation"
   ]
  },
  {
   "cell_type": "markdown",
   "metadata": {},
   "source": [
    "### Active trading days"
   ]
  },
  {
   "cell_type": "markdown",
   "metadata": {},
   "source": [
    "_'...To ensure there are enough data points to compute liquidity measures, we exclude firm-year observations with lower than two hundred active trading days in a year...' (Brogaard et al., 2017)_\n",
    "\n",
    "Some stocks are traded on multiple exchanges. I will assume that a stock is actively traded in a day if it is traded on one or more stock exchanges. In other words, the sum of its trade volumes is greater than zero across all the relevant exchanges."
   ]
  },
  {
   "cell_type": "code",
   "execution_count": 11,
   "metadata": {
    "ExecuteTime": {
     "end_time": "2020-02-28T10:37:31.985630Z",
     "start_time": "2020-02-28T10:36:53.004400Z"
    }
   },
   "outputs": [],
   "source": [
    "cdaily = cdaily.groupby(['gvkey', 'datadate'])['cshtrd'].sum().reset_index()"
   ]
  },
  {
   "cell_type": "code",
   "execution_count": 12,
   "metadata": {
    "ExecuteTime": {
     "end_time": "2020-02-28T10:37:32.013556Z",
     "start_time": "2020-02-28T10:37:31.999593Z"
    },
    "scrolled": true
   },
   "outputs": [
    {
     "data": {
      "text/plain": [
       "(54070921, 3)"
      ]
     },
     "execution_count": 12,
     "metadata": {},
     "output_type": "execute_result"
    }
   ],
   "source": [
    "cdaily.shape"
   ]
  },
  {
   "cell_type": "code",
   "execution_count": 13,
   "metadata": {
    "ExecuteTime": {
     "end_time": "2020-02-28T10:37:32.224967Z",
     "start_time": "2020-02-28T10:37:32.016550Z"
    }
   },
   "outputs": [],
   "source": [
    "cdaily['actively_traded'] = np.where(cdaily['cshtrd'] > 0, True, False)"
   ]
  },
  {
   "cell_type": "code",
   "execution_count": 14,
   "metadata": {
    "ExecuteTime": {
     "end_time": "2020-02-28T10:37:32.235938Z",
     "start_time": "2020-02-28T10:37:32.227957Z"
    },
    "scrolled": true
   },
   "outputs": [
    {
     "data": {
      "text/plain": [
       "(54070921, 4)"
      ]
     },
     "execution_count": 14,
     "metadata": {},
     "output_type": "execute_result"
    }
   ],
   "source": [
    "cdaily.shape"
   ]
  },
  {
   "cell_type": "code",
   "execution_count": 15,
   "metadata": {
    "ExecuteTime": {
     "end_time": "2020-02-28T10:37:36.495474Z",
     "start_time": "2020-02-28T10:37:32.239929Z"
    }
   },
   "outputs": [],
   "source": [
    "cdaily = cdaily.loc[cdaily['actively_traded'] ==\n",
    "                    True, ['gvkey', 'datadate', 'actively_traded']]"
   ]
  },
  {
   "cell_type": "code",
   "execution_count": 16,
   "metadata": {
    "ExecuteTime": {
     "end_time": "2020-02-28T10:37:36.504452Z",
     "start_time": "2020-02-28T10:37:36.498467Z"
    }
   },
   "outputs": [
    {
     "data": {
      "text/plain": [
       "(39526967, 3)"
      ]
     },
     "execution_count": 16,
     "metadata": {},
     "output_type": "execute_result"
    }
   ],
   "source": [
    "cdaily.shape"
   ]
  },
  {
   "cell_type": "markdown",
   "metadata": {},
   "source": [
    "### Active trading years\n",
    "i.e. with 200 or more non-zero trades in a year."
   ]
  },
  {
   "cell_type": "code",
   "execution_count": 17,
   "metadata": {
    "ExecuteTime": {
     "end_time": "2020-02-28T10:37:39.857091Z",
     "start_time": "2020-02-28T10:37:36.507444Z"
    }
   },
   "outputs": [],
   "source": [
    "cdaily['year'] = cdaily['datadate'].dt.year.astype('uint16')"
   ]
  },
  {
   "cell_type": "code",
   "execution_count": 18,
   "metadata": {
    "ExecuteTime": {
     "end_time": "2020-02-28T10:37:39.863989Z",
     "start_time": "2020-02-28T10:37:39.858046Z"
    },
    "scrolled": true
   },
   "outputs": [
    {
     "data": {
      "text/plain": [
       "(39526967, 4)"
      ]
     },
     "execution_count": 18,
     "metadata": {},
     "output_type": "execute_result"
    }
   ],
   "source": [
    "cdaily.shape"
   ]
  },
  {
   "cell_type": "code",
   "execution_count": 19,
   "metadata": {
    "ExecuteTime": {
     "end_time": "2020-02-28T10:37:42.532779Z",
     "start_time": "2020-02-28T10:37:39.865987Z"
    }
   },
   "outputs": [],
   "source": [
    "cdaily = cdaily.groupby(['gvkey', 'year'])[\n",
    "    'actively_traded'].sum().astype('uint16').reset_index()"
   ]
  },
  {
   "cell_type": "code",
   "execution_count": 20,
   "metadata": {
    "ExecuteTime": {
     "end_time": "2020-02-28T10:37:42.541128Z",
     "start_time": "2020-02-28T10:37:42.533745Z"
    }
   },
   "outputs": [],
   "source": [
    "cdaily['to_keep'] = np.where(cdaily['actively_traded'] >= 200, True, False)"
   ]
  },
  {
   "cell_type": "code",
   "execution_count": 21,
   "metadata": {
    "ExecuteTime": {
     "end_time": "2020-02-28T10:37:42.604696Z",
     "start_time": "2020-02-28T10:37:42.542860Z"
    },
    "scrolled": true
   },
   "outputs": [
    {
     "data": {
      "text/html": [
       "<div>\n",
       "<style scoped>\n",
       "    .dataframe tbody tr th:only-of-type {\n",
       "        vertical-align: middle;\n",
       "    }\n",
       "\n",
       "    .dataframe tbody tr th {\n",
       "        vertical-align: top;\n",
       "    }\n",
       "\n",
       "    .dataframe thead th {\n",
       "        text-align: right;\n",
       "    }\n",
       "</style>\n",
       "<table border=\"1\" class=\"dataframe\">\n",
       "  <thead>\n",
       "    <tr style=\"text-align: right;\">\n",
       "      <th></th>\n",
       "      <th>gvkey</th>\n",
       "      <th>year</th>\n",
       "      <th>actively_traded</th>\n",
       "      <th>to_keep</th>\n",
       "    </tr>\n",
       "  </thead>\n",
       "  <tbody>\n",
       "    <tr>\n",
       "      <th>188286</th>\n",
       "      <td>137580</td>\n",
       "      <td>2008</td>\n",
       "      <td>11</td>\n",
       "      <td>False</td>\n",
       "    </tr>\n",
       "    <tr>\n",
       "      <th>54864</th>\n",
       "      <td>13113</td>\n",
       "      <td>1996</td>\n",
       "      <td>254</td>\n",
       "      <td>True</td>\n",
       "    </tr>\n",
       "    <tr>\n",
       "      <th>73771</th>\n",
       "      <td>17795</td>\n",
       "      <td>2000</td>\n",
       "      <td>130</td>\n",
       "      <td>False</td>\n",
       "    </tr>\n",
       "    <tr>\n",
       "      <th>92511</th>\n",
       "      <td>24840</td>\n",
       "      <td>2013</td>\n",
       "      <td>7</td>\n",
       "      <td>False</td>\n",
       "    </tr>\n",
       "    <tr>\n",
       "      <th>84987</th>\n",
       "      <td>23062</td>\n",
       "      <td>1997</td>\n",
       "      <td>253</td>\n",
       "      <td>True</td>\n",
       "    </tr>\n",
       "    <tr>\n",
       "      <th>50661</th>\n",
       "      <td>12445</td>\n",
       "      <td>2007</td>\n",
       "      <td>251</td>\n",
       "      <td>True</td>\n",
       "    </tr>\n",
       "    <tr>\n",
       "      <th>83261</th>\n",
       "      <td>22461</td>\n",
       "      <td>1997</td>\n",
       "      <td>253</td>\n",
       "      <td>True</td>\n",
       "    </tr>\n",
       "    <tr>\n",
       "      <th>74716</th>\n",
       "      <td>18332</td>\n",
       "      <td>2010</td>\n",
       "      <td>147</td>\n",
       "      <td>False</td>\n",
       "    </tr>\n",
       "    <tr>\n",
       "      <th>42498</th>\n",
       "      <td>10733</td>\n",
       "      <td>1999</td>\n",
       "      <td>223</td>\n",
       "      <td>True</td>\n",
       "    </tr>\n",
       "    <tr>\n",
       "      <th>152151</th>\n",
       "      <td>65064</td>\n",
       "      <td>1999</td>\n",
       "      <td>184</td>\n",
       "      <td>False</td>\n",
       "    </tr>\n",
       "  </tbody>\n",
       "</table>\n",
       "</div>"
      ],
      "text/plain": [
       "         gvkey  year  actively_traded  to_keep\n",
       "188286  137580  2008               11    False\n",
       "54864    13113  1996              254     True\n",
       "73771    17795  2000              130    False\n",
       "92511    24840  2013                7    False\n",
       "84987    23062  1997              253     True\n",
       "50661    12445  2007              251     True\n",
       "83261    22461  1997              253     True\n",
       "74716    18332  2010              147    False\n",
       "42498    10733  1999              223     True\n",
       "152151   65064  1999              184    False"
      ]
     },
     "execution_count": 21,
     "metadata": {},
     "output_type": "execute_result"
    }
   ],
   "source": [
    "cdaily.sample(10)"
   ]
  },
  {
   "cell_type": "code",
   "execution_count": 22,
   "metadata": {
    "ExecuteTime": {
     "end_time": "2020-02-28T10:37:42.617662Z",
     "start_time": "2020-02-28T10:37:42.606689Z"
    }
   },
   "outputs": [
    {
     "data": {
      "text/html": [
       "<div>\n",
       "<style scoped>\n",
       "    .dataframe tbody tr th:only-of-type {\n",
       "        vertical-align: middle;\n",
       "    }\n",
       "\n",
       "    .dataframe tbody tr th {\n",
       "        vertical-align: top;\n",
       "    }\n",
       "\n",
       "    .dataframe thead th {\n",
       "        text-align: right;\n",
       "    }\n",
       "</style>\n",
       "<table border=\"1\" class=\"dataframe\">\n",
       "  <thead>\n",
       "    <tr style=\"text-align: right;\">\n",
       "      <th></th>\n",
       "      <th>gvkey</th>\n",
       "      <th>year</th>\n",
       "      <th>actively_traded</th>\n",
       "      <th>to_keep</th>\n",
       "    </tr>\n",
       "  </thead>\n",
       "  <tbody>\n",
       "  </tbody>\n",
       "</table>\n",
       "</div>"
      ],
      "text/plain": [
       "Empty DataFrame\n",
       "Columns: [gvkey, year, actively_traded, to_keep]\n",
       "Index: []"
      ]
     },
     "execution_count": 22,
     "metadata": {},
     "output_type": "execute_result"
    }
   ],
   "source": [
    "# check, there shouldn't be more than 255 trading days in a year\n",
    "cdaily.loc[cdaily['actively_traded'] > 255, ]"
   ]
  },
  {
   "cell_type": "code",
   "execution_count": 23,
   "metadata": {
    "ExecuteTime": {
     "end_time": "2020-02-28T10:37:42.623643Z",
     "start_time": "2020-02-28T10:37:42.618659Z"
    }
   },
   "outputs": [
    {
     "data": {
      "text/plain": [
       "(227706, 4)"
      ]
     },
     "execution_count": 23,
     "metadata": {},
     "output_type": "execute_result"
    }
   ],
   "source": [
    "cdaily.shape"
   ]
  },
  {
   "cell_type": "markdown",
   "metadata": {},
   "source": [
    "## Export"
   ]
  },
  {
   "cell_type": "code",
   "execution_count": 24,
   "metadata": {
    "ExecuteTime": {
     "end_time": "2020-02-28T10:37:43.131541Z",
     "start_time": "2020-02-28T10:37:42.625638Z"
    }
   },
   "outputs": [],
   "source": [
    "cdaily.to_csv(r'data/active_firm_years.csv',\n",
    "              columns=['gvkey', 'year', 'actively_traded', 'to_keep'])"
   ]
  }
 ],
 "metadata": {
  "kernelspec": {
   "display_name": "Python 3",
   "language": "python",
   "name": "python3"
  },
  "language_info": {
   "codemirror_mode": {
    "name": "ipython",
    "version": 3
   },
   "file_extension": ".py",
   "mimetype": "text/x-python",
   "name": "python",
   "nbconvert_exporter": "python",
   "pygments_lexer": "ipython3",
   "version": "3.7.6"
  },
  "toc": {
   "base_numbering": 1,
   "nav_menu": {},
   "number_sections": true,
   "sideBar": true,
   "skip_h1_title": false,
   "title_cell": "Table of Contents",
   "title_sidebar": "Contents",
   "toc_cell": true,
   "toc_position": {},
   "toc_section_display": true,
   "toc_window_display": false
  },
  "varInspector": {
   "cols": {
    "lenName": 16,
    "lenType": 16,
    "lenVar": 40
   },
   "kernels_config": {
    "python": {
     "delete_cmd_postfix": "",
     "delete_cmd_prefix": "del ",
     "library": "var_list.py",
     "varRefreshCmd": "print(var_dic_list())"
    },
    "r": {
     "delete_cmd_postfix": ") ",
     "delete_cmd_prefix": "rm(",
     "library": "var_list.r",
     "varRefreshCmd": "cat(var_dic_list()) "
    }
   },
   "types_to_exclude": [
    "module",
    "function",
    "builtin_function_or_method",
    "instance",
    "_Feature"
   ],
   "window_display": false
  }
 },
 "nbformat": 4,
 "nbformat_minor": 4
}
